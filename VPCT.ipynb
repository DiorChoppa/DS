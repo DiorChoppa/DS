{
 "cells": [
  {
   "cell_type": "code",
   "execution_count": 1,
   "id": "1afb5909",
   "metadata": {},
   "outputs": [],
   "source": [
    "import numpy as np\n",
    "import pandas as pd\n",
    "import sys\n",
    "import re"
   ]
  },
  {
   "cell_type": "code",
   "execution_count": 2,
   "id": "d92be7b4",
   "metadata": {},
   "outputs": [],
   "source": [
    "df = pd.read_csv(\"/Users/blessed/Desktop/all_the_json.csv\")"
   ]
  },
  {
   "cell_type": "markdown",
   "id": "edd65035",
   "metadata": {},
   "source": [
    "## Получение сущностей"
   ]
  },
  {
   "cell_type": "code",
   "execution_count": 38,
   "id": "49e9ea1f",
   "metadata": {},
   "outputs": [],
   "source": [
    "def cutdown(string):\n",
    "    ddot = string.index(':') - 2\n",
    "    string = string[4:ddot]\n",
    "    return (string)"
   ]
  },
  {
   "cell_type": "code",
   "execution_count": 69,
   "id": "576bc943",
   "metadata": {},
   "outputs": [],
   "source": [
    "#for i in range(0, df['content'].count()):\n",
    "for i in range(200001, df['content'].count()):\n",
    "    df['content'][i] = cutdown(df['content'][i])"
   ]
  },
  {
   "cell_type": "code",
   "execution_count": 37,
   "id": "d1b0af36",
   "metadata": {},
   "outputs": [
    {
     "data": {
      "text/html": [
       "<div>\n",
       "<style scoped>\n",
       "    .dataframe tbody tr th:only-of-type {\n",
       "        vertical-align: middle;\n",
       "    }\n",
       "\n",
       "    .dataframe tbody tr th {\n",
       "        vertical-align: top;\n",
       "    }\n",
       "\n",
       "    .dataframe thead th {\n",
       "        text-align: right;\n",
       "    }\n",
       "</style>\n",
       "<table border=\"1\" class=\"dataframe\">\n",
       "  <thead>\n",
       "    <tr style=\"text-align: right;\">\n",
       "      <th></th>\n",
       "      <th>content</th>\n",
       "    </tr>\n",
       "  </thead>\n",
       "  <tbody>\n",
       "    <tr>\n",
       "      <th>0</th>\n",
       "      <td>\"{\\\"service_name\\\":\\\"Аккредитация юридических ...</td>\n",
       "    </tr>\n",
       "    <tr>\n",
       "      <th>1</th>\n",
       "      <td>\"{\\\"service_name\\\":\\\"Осуществление федеральног...</td>\n",
       "    </tr>\n",
       "    <tr>\n",
       "      <th>2</th>\n",
       "      <td>\"{\\\"service_name\\\":\\\"Организация формирования ...</td>\n",
       "    </tr>\n",
       "    <tr>\n",
       "      <th>3</th>\n",
       "      <td>\"{\\\"service_name\\\":\\\"Формирование и ведение ре...</td>\n",
       "    </tr>\n",
       "    <tr>\n",
       "      <th>4</th>\n",
       "      <td>\"{\\\"service_name\\\":\\\"Подтверждение компетентно...</td>\n",
       "    </tr>\n",
       "    <tr>\n",
       "      <th>...</th>\n",
       "      <td>...</td>\n",
       "    </tr>\n",
       "    <tr>\n",
       "      <th>546436</th>\n",
       "      <td>\"{\\\"service_name\\\":\\\"Признание и оценка соотве...</td>\n",
       "    </tr>\n",
       "    <tr>\n",
       "      <th>546437</th>\n",
       "      <td>\"{\\\"service_name\\\":\\\"Рассмотрение заявлений о ...</td>\n",
       "    </tr>\n",
       "    <tr>\n",
       "      <th>546438</th>\n",
       "      <td>\"{\\\"service_name\\\":\\\"Организация выдачи бланко...</td>\n",
       "    </tr>\n",
       "    <tr>\n",
       "      <th>546439</th>\n",
       "      <td>\"{\\\"service_name\\\":\\\"Проведение аккредитации ю...</td>\n",
       "    </tr>\n",
       "    <tr>\n",
       "      <th>546440</th>\n",
       "      <td>\"{\\\"number\\\":34,\\\"indicator_ids\\\":[568704]}\"</td>\n",
       "    </tr>\n",
       "  </tbody>\n",
       "</table>\n",
       "<p>546441 rows × 1 columns</p>\n",
       "</div>"
      ],
      "text/plain": [
       "                                                  content\n",
       "0       \"{\\\"service_name\\\":\\\"Аккредитация юридических ...\n",
       "1       \"{\\\"service_name\\\":\\\"Осуществление федеральног...\n",
       "2       \"{\\\"service_name\\\":\\\"Организация формирования ...\n",
       "3       \"{\\\"service_name\\\":\\\"Формирование и ведение ре...\n",
       "4       \"{\\\"service_name\\\":\\\"Подтверждение компетентно...\n",
       "...                                                   ...\n",
       "546436  \"{\\\"service_name\\\":\\\"Признание и оценка соотве...\n",
       "546437  \"{\\\"service_name\\\":\\\"Рассмотрение заявлений о ...\n",
       "546438  \"{\\\"service_name\\\":\\\"Организация выдачи бланко...\n",
       "546439  \"{\\\"service_name\\\":\\\"Проведение аккредитации ю...\n",
       "546440       \"{\\\"number\\\":34,\\\"indicator_ids\\\":[568704]}\"\n",
       "\n",
       "[546441 rows x 1 columns]"
      ]
     },
     "execution_count": 37,
     "metadata": {},
     "output_type": "execute_result"
    }
   ],
   "source": [
    "df"
   ]
  },
  {
   "cell_type": "code",
   "execution_count": 75,
   "id": "ca6043bb",
   "metadata": {},
   "outputs": [
    {
     "data": {
      "text/plain": [
       "array(['service_name', 'staff_placement_objects_count', 'number', 'post',\n",
       "       'all_workspace', 'vpct_event_types', 'total_processor_cores',\n",
       "       'name', 'indicator_ids', 'kind', 'unit', 'department_name',\n",
       "       'direction', 'indicator', 'description', 'year', 'code',\n",
       "       'appendix13_service_id', 'information_system',\n",
       "       'providing_services_regular_time', 'information_system_name',\n",
       "       '\"{\\\\\"name\\\\\":\\\\\"Сервер LDAP\\\\\",\\\\\"number\\\\\":3}\"',\n",
       "       'participant_id'], dtype=object)"
      ]
     },
     "execution_count": 75,
     "metadata": {},
     "output_type": "execute_result"
    }
   ],
   "source": [
    "df['content'].unique()"
   ]
  },
  {
   "cell_type": "markdown",
   "id": "eecd9fd0",
   "metadata": {},
   "source": [
    "## Разметка сущностей"
   ]
  },
  {
   "cell_type": "code",
   "execution_count": 18,
   "id": "3bf5fcbe",
   "metadata": {},
   "outputs": [],
   "source": [
    "def cutdd(string, a, b):\n",
    "    string = string[a:b]\n",
    "    return (string)"
   ]
  },
  {
   "cell_type": "code",
   "execution_count": 79,
   "id": "5da6d72b",
   "metadata": {},
   "outputs": [
    {
     "data": {
      "text/plain": [
       "['kind',\n",
       " '\\\\\"description\\\\\":\\\\\"4. Алгоритм расчета \\\\\\\\n\\\\\\\\n4.1 Для государственной услуги \\\\\\\\\\\\\"Оформление и выдача удостоверений личности моряка членам экипажей морских судов',\n",
       " ' судов смешанного (река-море) плавания и судов рыбопромыслового флота\\\\\\\\\\\\\" Административным регламентом (Приказ Минтранса России от 12.12.2013 № 460) предоставления услуги не предусмотрена возможность автоматического принятия решения  без участия человека.\\\\\\\\n\\\\\\\\nПоказатель является альтернативным и имеет два значения: да/нет.\\\\\"}\"']"
      ]
     },
     "execution_count": 79,
     "metadata": {},
     "output_type": "execute_result"
    }
   ],
   "source": [
    "#TEST\n",
    "cum = 162023\n",
    "#s = df['content'][cum].split(',\\\\')\n",
    "s = df['content'][cum].split(',')\n",
    "ns = df['content'][cum].index('\\\\') + 2\n",
    "nd = df['content'][cum].index(':') - 2\n",
    "s[0] = s[0][ns:nd]\n",
    "#s\n",
    "#df['content'][cum]\n",
    "s"
   ]
  },
  {
   "cell_type": "code",
   "execution_count": 93,
   "id": "e2a5849f",
   "metadata": {},
   "outputs": [
    {
     "data": {
      "text/plain": [
       "['kind', 'description']"
      ]
     },
     "execution_count": 93,
     "metadata": {},
     "output_type": "execute_result"
    }
   ],
   "source": [
    "#TEST\n",
    "cum = 162023\n",
    "s = df['content'][cum].split(',')\n",
    "#s = df['content'][cum].split(',\\\\')\n",
    "ns = df['content'][cum].index('\\\\') + 2\n",
    "nd = df['content'][cum].index(':') - 2\n",
    "s[0] = s[0][ns:nd]\n",
    "for i in range(1, len(s)):\n",
    "    if((s[i] == '\"') | (s[i] == '') | (s[i] == ' ')):\n",
    "        continue\n",
    "    q = s[i].index('\"') + 1 if '\"' in s[i] else -1\n",
    "    if(q == -1):\n",
    "        s[i] = '\"'\n",
    "        continue\n",
    "    sl = s[i].index('\\\\\":') if '\\\\\":' in s[i] else -1\n",
    "    if(sl == -1):\n",
    "        s[i] = '\"'\n",
    "        continue\n",
    "    s[i] = s[i][q:sl]\n",
    "if('\"' in s):\n",
    "    s.remove('\"')\n",
    "s"
   ]
  },
  {
   "cell_type": "code",
   "execution_count": 4,
   "id": "9fdfda70",
   "metadata": {},
   "outputs": [],
   "source": [
    "names = ['service_name'\n",
    ",'staff_placement_objects_count'\n",
    ",'number'\n",
    ",'post'\n",
    ",'all_workspace'\n",
    ",'vpct_event_types'\n",
    ",'total_processor_cores'\n",
    ",'name'\n",
    ",'indicator_ids'\n",
    ",'kind'\n",
    ",'unit'\n",
    ",'department_name'\n",
    ",'direction'\n",
    ",'indicator'\n",
    ",'description'\n",
    ",'year'\n",
    ",'code'\n",
    ",'appendix13_service_id'\n",
    ",'information_system'\n",
    ",'providing_services_regular_time'\n",
    ",'information_system_name'\n",
    ",'participant_id']"
   ]
  },
  {
   "cell_type": "code",
   "execution_count": 196,
   "id": "5318e1c8",
   "metadata": {},
   "outputs": [],
   "source": [
    "res = [None] * 22\n",
    "#res"
   ]
  },
  {
   "cell_type": "code",
   "execution_count": 128,
   "id": "d0756345",
   "metadata": {},
   "outputs": [
    {
     "name": "stdout",
     "output_type": "stream",
     "text": [
      "0\n",
      "1\n",
      "2\n",
      "3\n",
      "4\n",
      "5\n",
      "6\n",
      "7\n",
      "8\n",
      "9\n",
      "10\n",
      "11\n",
      "12\n",
      "13\n",
      "14\n",
      "15\n",
      "16\n",
      "17\n",
      "18\n",
      "19\n",
      "20\n",
      "21\n"
     ]
    }
   ],
   "source": [
    "li = list()\n",
    "res = [None] * 22\n",
    "for i in range (0, len(names)):\n",
    "    for j in range(0, df['content'].count()):\n",
    "        rs = df['content'][j].split(',')\n",
    "        ns = df['content'][j].index('\\\\') + 2\n",
    "        nd = df['content'][j].index(':') - 2\n",
    "        rs[0] = rs[0][ns:nd]\n",
    "        if(rs[0] == names[i]):\n",
    "            for k in range(1, len(rs)):\n",
    "                if((rs[k] == '\"') | (rs[k] == '') | (rs[k] == ' ')):\n",
    "                    continue\n",
    "                q = rs[k].index('\"') + 1 if '\"' in rs[k] else -1\n",
    "                if(q == -1):\n",
    "                    rs[k] = '\"'\n",
    "                    continue\n",
    "                sl = rs[k].index('\\\\\":') if '\\\\\":' in rs[k] else -1\n",
    "                if(sl == -1):\n",
    "                    rs[k] = '\"'\n",
    "                    continue\n",
    "                if(i == 15):\n",
    "                    if('Единое окно' in rs[k][q:sl]):\n",
    "                        continue\n",
    "                li.append(rs[k][q:sl])\n",
    "    if ('\"' in li):\n",
    "        li.remove('\"')\n",
    "    if ('' in li):\n",
    "        li.remove('')\n",
    "    res[i] = set(li)\n",
    "    print(i)\n",
    "    li.clear()"
   ]
  },
  {
   "cell_type": "code",
   "execution_count": 127,
   "id": "d761bd0d",
   "metadata": {},
   "outputs": [
    {
     "data": {
      "text/plain": [
       "{'description'}"
      ]
     },
     "execution_count": 127,
     "metadata": {},
     "output_type": "execute_result"
    }
   ],
   "source": [
    "res[15]"
   ]
  },
  {
   "cell_type": "code",
   "execution_count": 130,
   "id": "ea3c760b",
   "metadata": {
    "scrolled": true
   },
   "outputs": [
    {
     "name": "stdout",
     "output_type": "stream",
     "text": [
      "1 service_name : \n",
      "{'to_mfc_type', 'average_labor_intensity', 'to_department_site', 'providing_services_regular_time', 'to_epgu_type', 'duty_average_size', 'digital_readiness_level', 'number', 'face_to_face_type', 'information_system_name', 'service_published_id', 'participant_id'}\n",
      "\n",
      "\n",
      "2 staff_placement_objects_count : \n",
      "{'staff_placement_objects_count_connected_to_internet', 'workstation_count_connected_to_department_network', 'participant_id', 'staff_placement_objects_count_connected_to_department_network', 'workstation_count_connected_to_internet'}\n",
      "\n",
      "\n",
      "3 number : \n",
      "{'dev_value_1', 'vpct_event_types', 'to_mfc_type', 'legal_act_name', 'total_RAM', 'manufacturer_name_of_virtualization_system_and_db', 'providing_services_regular_time', 'digital_readiness_level', 'total_RAM_include_service_model', 'start_value', 'base_value_1', 'legal_act_date', 'base_value_3', 'start_expluatation_year', 'total_ssd_storage_include_service_model', 'computing_infrastructure_with_less_usefull_life', 'appendix13_service_id', 'name', 'face_to_face_type', 'total_costs_for_creation_and_development', 'information_system', 'information_system_name', 'base_value_2', 'user_count', 'total_ssd_storage', 'goal_ids', 'number_of_users_transactions', 'service_name', 'dev_value_2', 'manufacturer_name', 'total_operating_costs_per_year', 'average_labor_intensity', 'total_hdd_storage', 'legal_act_number', 'to_epgu_type', 'total_hdd_storage_include_service_model', 'total_server_racks', 'proportion_of_local_computing_infrastructure', 'indicator_ids', 'service_published_id', 'dev_value_3', 'participant_id', 'responsible_fio', 'total_processor_cores', 'arrangement_code', 'to_department_site', 'unit', 'duty_average_size', 'kind', 'preset', 'counter', 'processor_cores_include_service_model', 'amount_of_data_stored'}\n",
      "\n",
      "\n",
      "4 post : \n",
      "{'kind', 'fio', 'number'}\n",
      "\n",
      "\n",
      "5 all_workspace : \n",
      "{'workspace_with_less_usefull_life', 'proportion_of_local_office_packs', 'proportion_of_local_software', 'workspace_with_normal_usefull_life', 'participant_id'}\n",
      "\n",
      "\n",
      "6 vpct_event_types : \n",
      "{'arrangement_code', 'number', 'counter', 'indicator_ids', 'participant_id'}\n",
      "\n",
      "\n",
      "7 total_processor_cores : \n",
      "{'total_hdd_storage', 'total_RAM', 'total_ssd_storage_include_service_model', 'computing_infrastructure_with_less_usefull_life', 'total_hdd_storage_include_service_model', 'number', 'total_RAM_include_service_model', 'total_ssd_storage', 'total_server_racks', 'proportion_of_local_computing_infrastructure', 'participant_id', 'processor_cores_include_service_model'}\n",
      "\n",
      "\n",
      "8 name : \n",
      "{'number', 'participant_id', 'manufacturer_name', 'user_count'}\n",
      "\n",
      "\n",
      "9 indicator_ids : \n",
      "{'vpct_event_types', 'arrangement_code', 'counter', 'number'}\n",
      "\n",
      "\n",
      "10 kind : \n",
      "{'dev_value_1', 'base_value_3', 'vpct_event_types', 'dev_value_2', 'fio', 'department_counting', 'budget_code', 'arrangement_code', 'number', 'indicator_codes', 'counter', 'department_name', 'base_value_2', 'indicator_ids', 'base_value_1', 'dev_value_3', 'description', 'post'}\n",
      "\n",
      "\n",
      "11 unit : \n",
      "{'dev_value_1', 'base_value_3', 'responsible_fio', 'dev_value_2', 'kind', 'number', 'start_value', 'base_value_2', 'base_value_1', 'dev_value_3', 'participant_id', 'goal_ids', 'authority'}\n",
      "\n",
      "\n",
      "12 department_name : \n",
      "{'kind', 'department_counting', 'number'}\n",
      "\n",
      "\n",
      "13 direction : \n",
      "{'year', 'expenses', 'expenses_2', 'expenses_3', 'participant_id', 'expenses_1'}\n",
      "\n",
      "\n",
      "14 indicator : \n",
      "{'indicator_value'}\n",
      "\n",
      "\n",
      "15 description : \n",
      "{'kind', 'number'}\n",
      "\n",
      "\n",
      "16 year : \n",
      "{'description'}\n",
      "\n",
      "\n",
      "17 code : \n",
      "{'cost'}\n",
      "\n",
      "\n",
      "18 appendix13_service_id : \n",
      "{'number'}\n",
      "\n",
      "\n",
      "19 information_system : \n",
      "{'total_operating_costs_per_year', 'start_expluatation_year', 'manufacturer_name_of_virtualization_system_and_db', 'number', 'total_costs_for_creation_and_development', 'information_system_name', 'participant_id', 'amount_of_data_stored', 'number_of_users_transactions'}\n",
      "\n",
      "\n",
      "20 providing_services_regular_time : \n",
      "{'to_mfc_type', 'average_labor_intensity', 'to_department_site', 'to_epgu_type', 'duty_average_size', 'digital_readiness_level', 'number', 'face_to_face_type', 'information_system_name', 'service_published_id', 'service_name'}\n",
      "\n",
      "\n",
      "21 information_system_name : \n",
      "{'total_operating_costs_per_year', 'start_expluatation_year', 'manufacturer_name_of_virtualization_system_and_db', 'number', 'total_costs_for_creation_and_development', 'information_system', 'participant_id', 'amount_of_data_stored', 'number_of_users_transactions'}\n",
      "\n",
      "\n",
      "22 participant_id : \n",
      "{'vpct_event_types', 'legal_act_name', 'arrangement_code', 'legal_act_number', 'number', 'counter', 'indicator_ids', 'direction', 'legal_act_date'}\n",
      "\n",
      "\n"
     ]
    }
   ],
   "source": [
    "for i in range(0, 22):\n",
    "    print (i + 1, names[i] + \" : \")\n",
    "    print(res[i])\n",
    "    print(\"\\n\")"
   ]
  }
 ],
 "metadata": {
  "kernelspec": {
   "display_name": "Python 3",
   "language": "python",
   "name": "python3"
  },
  "language_info": {
   "codemirror_mode": {
    "name": "ipython",
    "version": 3
   },
   "file_extension": ".py",
   "mimetype": "text/x-python",
   "name": "python",
   "nbconvert_exporter": "python",
   "pygments_lexer": "ipython3",
   "version": "3.8.8"
  }
 },
 "nbformat": 4,
 "nbformat_minor": 5
}
