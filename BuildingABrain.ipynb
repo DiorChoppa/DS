{
  "nbformat": 4,
  "nbformat_minor": 0,
  "metadata": {
    "colab": {
      "name": "BuildingABrian.ipynb",
      "provenance": [],
      "collapsed_sections": []
    },
    "kernelspec": {
      "name": "python3",
      "display_name": "Python 3"
    },
    "language_info": {
      "name": "python"
    },
    "accelerator": "GPU"
  },
  "cells": [
    {
      "cell_type": "code",
      "metadata": {
        "id": "boTcxf3jUGum",
        "colab": {
          "base_uri": "https://localhost:8080/"
        },
        "outputId": "0cf5a075-9704-48f0-bc93-2362512d6661"
      },
      "source": [
        "import tensorflow as tf\n",
        "\n",
        "tf.config.list_physical_devices('GPU')"
      ],
      "execution_count": 1,
      "outputs": [
        {
          "output_type": "execute_result",
          "data": {
            "text/plain": [
              "[PhysicalDevice(name='/physical_device:GPU:0', device_type='GPU')]"
            ]
          },
          "metadata": {},
          "execution_count": 1
        }
      ]
    },
    {
      "cell_type": "markdown",
      "metadata": {
        "id": "BfZZ17PkquZY"
      },
      "source": [
        "GPUs were originally designed for the significant amount of matrix mathematics used when rendering computer graphics. Neural networks also require a significant amount of matrix multiplication, making GPUs a good fit when building them.\n",
        "\n",
        "## Data\n",
        "\n",
        "Speaking of graphics, we're going to tackle a challenge that seemed almost impossible decades ago: image classification with computer vision. Specifically, we will try to classify articles of clothing from the [Fashion MNIST](https://github.com/zalandoresearch/fashion-mnist) dataset. A few samples are shown below:\n",
        "\n",
        "<center><img src=\"https://github.com/zalandoresearch/fashion-mnist/blob/master/doc/img/fashion-mnist-sprite.png?raw=true\" width=\"400\" /></center>\n",
        "\n",
        "Neural networks attempt to copy the human learning technique, Trial and Error. To do this, we will create something like a set of digital flashcards. Our artificial brains will attempt to guess what kind of clothing we are showing it with a flashcard, then we will give it the answer, helping the computer learn from its successes and mistakes.\n",
        "\n",
        "Just like how students are quizzed to test their understanding, we will set aside a portion of our data to quiz our neural networks to make sure they understand the concepts we're trying to teach them, as opposed to them memorizing the answers to their study questions. For trivia, memorization might be an acceptable strategy, but for skills, like adding two numbers, memorization won't get our models very far.\n",
        "\n",
        "The study data is often called the `training dataset` and the quiz data is often called the `validation dataset`. As Fashion MNIST is a popular dataset, it is already included with the TensorFlow library. Let's load it into our coding environment and take a look at it."
      ]
    },
    {
      "cell_type": "code",
      "metadata": {
        "id": "ijLiERH_n6q_",
        "colab": {
          "base_uri": "https://localhost:8080/"
        },
        "outputId": "52c9e994-55fb-4eb3-b32a-cdd38443de66"
      },
      "source": [
        "fashion_mnist = tf.keras.datasets.fashion_mnist\n",
        "(train_images, train_labels), (valid_images, valid_labels) = fashion_mnist.load_data()"
      ],
      "execution_count": 2,
      "outputs": [
        {
          "output_type": "stream",
          "name": "stdout",
          "text": [
            "Downloading data from https://storage.googleapis.com/tensorflow/tf-keras-datasets/train-labels-idx1-ubyte.gz\n",
            "32768/29515 [=================================] - 0s 0us/step\n",
            "40960/29515 [=========================================] - 0s 0us/step\n",
            "Downloading data from https://storage.googleapis.com/tensorflow/tf-keras-datasets/train-images-idx3-ubyte.gz\n",
            "26427392/26421880 [==============================] - 0s 0us/step\n",
            "26435584/26421880 [==============================] - 0s 0us/step\n",
            "Downloading data from https://storage.googleapis.com/tensorflow/tf-keras-datasets/t10k-labels-idx1-ubyte.gz\n",
            "16384/5148 [===============================================================================================] - 0s 0us/step\n",
            "Downloading data from https://storage.googleapis.com/tensorflow/tf-keras-datasets/t10k-images-idx3-ubyte.gz\n",
            "4423680/4422102 [==============================] - 0s 0us/step\n",
            "4431872/4422102 [==============================] - 0s 0us/step\n"
          ]
        }
      ]
    },
    {
      "cell_type": "code",
      "metadata": {
        "id": "sogb0Tt1xfni",
        "colab": {
          "base_uri": "https://localhost:8080/",
          "height": 265
        },
        "outputId": "1a61795b-afa6-4704-a3e2-0f681a63b82a"
      },
      "source": [
        "import matplotlib.pyplot as plt\n",
        "\n",
        "# The question number to study with. Feel free to change up to 59999.\n",
        "data_idx = 42\n",
        "\n",
        "plt.figure()\n",
        "plt.imshow(train_images[data_idx], cmap='gray')\n",
        "plt.colorbar()\n",
        "plt.grid(False)\n",
        "plt.show()"
      ],
      "execution_count": 3,
      "outputs": [
        {
          "output_type": "display_data",
          "data": {
            "image/png": "[encoded data removed]",
            "text/plain": [
              "<Figure size 432x288 with 2 Axes>"
            ]
          },
          "metadata": {
            "needs_background": "light"
          }
        }
      ]
    },
    {
      "cell_type": "markdown",
      "metadata": {
        "id": "8WQP0S79zwHp"
      },
      "source": [
        "| Label | Description |\n",
        "| --- | --- |\n",
        "| 0 | T-shirt/top |\n",
        "| 1 | Trouser |\n",
        "| 2 | Pullover |\n",
        "| 3 | Dress |\n",
        "| 4 | Coat |\n",
        "| 5 | Sandal |\n",
        "| 6 | Shirt |\n",
        "| 7 | Sneaker |\n",
        "| 8 | Bag |\n",
        "| 9 | Ankle boot |"
      ]
    },
    {
      "cell_type": "code",
      "metadata": {
        "id": "CQdadtT11iI8",
        "colab": {
          "base_uri": "https://localhost:8080/"
        },
        "outputId": "820ad702-41d7-4ea8-d591-e7e7f60dbb77"
      },
      "source": [
        "train_labels[data_idx]"
      ],
      "execution_count": 4,
      "outputs": [
        {
          "output_type": "execute_result",
          "data": {
            "text/plain": [
              "9"
            ]
          },
          "metadata": {},
          "execution_count": 4
        }
      ]
    },
    {
      "cell_type": "code",
      "metadata": {
        "id": "ZNrxxfNk3it1",
        "colab": {
          "base_uri": "https://localhost:8080/",
          "height": 265
        },
        "outputId": "46b1fd9d-1c17-4914-8320-1f6d97de9ecc"
      },
      "source": [
        "import matplotlib.pyplot as plt\n",
        "\n",
        "# The question number to quiz with. Feel free to change up to 9999.\n",
        "data_idx = 6174\n",
        "\n",
        "plt.figure()\n",
        "plt.imshow(valid_images[data_idx], cmap='gray')\n",
        "plt.colorbar()\n",
        "plt.grid(False)\n",
        "plt.show()"
      ],
      "execution_count": 5,
      "outputs": [
        {
          "output_type": "display_data",
          "data": {
            "image/png": "[encoded data removed]",
            "text/plain": [
              "<Figure size 432x288 with 2 Axes>"
            ]
          },
          "metadata": {
            "needs_background": "light"
          }
        }
      ]
    },
    {
      "cell_type": "code",
      "metadata": {
        "id": "AeJ68DMn4f3g",
        "colab": {
          "base_uri": "https://localhost:8080/"
        },
        "outputId": "300d56f4-16ad-4a56-c978-97c08660d2b8"
      },
      "source": [
        "valid_labels[data_idx]"
      ],
      "execution_count": 6,
      "outputs": [
        {
          "output_type": "execute_result",
          "data": {
            "text/plain": [
              "7"
            ]
          },
          "metadata": {},
          "execution_count": 6
        }
      ]
    },
    {
      "cell_type": "code",
      "metadata": {
        "id": "dHq93yV8_FWR",
        "colab": {
          "base_uri": "https://localhost:8080/"
        },
        "outputId": "d9c690b4-3fa7-440d-d9c9-9cd866c9da1f"
      },
      "source": [
        "# 28 lists with 28 values each\n",
        "valid_images[data_idx]"
      ],
      "execution_count": 7,
      "outputs": [
        {
          "output_type": "execute_result",
          "data": {
            "text/plain": [
              "array([[  0,   0,   0,   0,   0,   0,   0,   0,   0,   0,   0,   0,   0,\n",
              "          0,   0,   0,   0,   0,   0,   0,   0,   0,   0,   0,   0,   0,\n",
              "          0,   0],\n",
              "       [  0,   0,   0,   0,   0,   0,   0,   0,   0,   0,   0,   0,   0,\n",
              "          0,   0,   0,   0,   0,   0,   0,   0,   0,   0,   0,   0,   0,\n",
              "          0,   0],\n",
              "       [  0,   0,   0,   0,   0,   0,   0,   0,   0,   0,   0,   0,   0,\n",
              "          0,   0,   0,   0,   0,   0,   0,   0,   0,   0,   0,   0,   0,\n",
              "          0,   0],\n",
              "       [  0,   0,   0,   0,   0,   0,   0,   0,   0,   0,   0,   0,   0,\n",
              "          0,   0,   0,   0,   0,   0,   0,   0,   0,   0,   0,   0,   0,\n",
              "          0,   0],\n",
              "       [  0,   0,   0,   0,   0,   0,   0,   0,   0,   0,   0,   0,   0,\n",
              "          0,   0,   0,   0,   0,   0,   0,   0,   0,   0,   0,   0,   0,\n",
              "          0,   0],\n",
              "       [  0,   0,   0,   0,   0,   0,   0,   0,   0,   0,   0,   0,   0,\n",
              "          0,   0,   0,   0,   0,   0,   0,   0,   0,   0,   0,   0,   0,\n",
              "          0,   0],\n",
              "       [  0,   0,   0,   0,   0,   0,   0,   0,   0,   0,   0,   0,   0,\n",
              "          0,   0,   0,   0,   0,   0,   0,   0,   0,   0,   0,   0,   0,\n",
              "          0,   0],\n",
              "       [  0,   0,   0,   0,   0,   0,   0,   0,   0,   0,   0,   0,   0,\n",
              "          0,   0,   0, 155, 133,   0,   0,   1,   0,   0,   3,   0,   0,\n",
              "          0,   0],\n",
              "       [  0,   0,   0,   0,   0,   0,   0,   0,   0,   5,   0,   0,   0,\n",
              "          1,   0,   0, 175, 235,  35,   0,   3,   0,   5,   2,   3,   1,\n",
              "          0,   0],\n",
              "       [  0,   0,   0,   0,   0,   0,   0,   0,   0,   0,   1,   0,   0,\n",
              "          0,   0,  93, 219, 220,  32,   0,   0,   0,   0,   0,   0,   0,\n",
              "          1,   0],\n",
              "       [  0,   0,   0,   0,   0,   0,   0,   0,   0,   0,   2,   2,   0,\n",
              "          0, 147, 218, 159, 218,  28,   0,   2,   0,  82, 202, 115,   0,\n",
              "          0,   1],\n",
              "       [  0,   0,   0,   0,   0,   0,   0,   0,   2,   0,   0,   0,   0,\n",
              "        144, 248, 155, 105, 174,  87,   0,   0,   0, 233, 253, 213,   8,\n",
              "          0,   1],\n",
              "       [  1,   0,   0,   0,   1,   2,   2,   0,   0,   0,   0,  99, 233,\n",
              "        119,  81,  89, 140, 183, 208, 139,  74, 218, 223, 184, 189, 145,\n",
              "          0,   0],\n",
              "       [  0,   1,   2,   3,   5,   0,   0,   0,   0, 173, 153, 195,  97,\n",
              "        157, 220, 228, 213, 189, 182, 189, 220, 213, 174, 185, 186, 198,\n",
              "          0,   0],\n",
              "       [  1,   0,   0,   0,   0,  10, 129, 202, 198, 129, 149,  84, 124,\n",
              "        236, 221, 209, 226, 221, 166, 186, 179, 178, 205, 177, 206, 196,\n",
              "          0,   0],\n",
              "       [  0,   0,   6,  49,  80, 148, 203, 181, 203, 164, 145, 178, 159,\n",
              "        138, 174, 186, 162, 169, 177, 200, 214, 206, 178, 179, 205, 227,\n",
              "          6,   0],\n",
              "       [  3, 104, 128, 126, 124, 105,  85,  75,  99, 181, 140, 141, 185,\n",
              "        179, 181, 183, 185, 204, 227, 255, 224, 226, 234, 227, 159, 198,\n",
              "        198,   0],\n",
              "       [ 62, 150, 115, 111,  91, 117, 131, 102, 129, 120, 153, 176, 216,\n",
              "        232, 238, 238, 211, 242, 173,  26,   0,  54, 104,  20,   0,   0,\n",
              "         48,  16],\n",
              "       [116, 179, 173, 173, 202, 188, 200, 228, 179, 150, 100,  89, 164,\n",
              "         39,   0,  82, 129,  17,   0,   0,   0,   0,   0,   0,  25,  11,\n",
              "          0,  12],\n",
              "       [ 10, 122, 108, 148, 115, 145, 148,  79,  38,   0,   0,   0,   0,\n",
              "          0,   0,   0,   0,   0,   9,  14,   7,  18,   9,   5,   0,  12,\n",
              "          0,   0],\n",
              "       [  0,   5,  57,  67,   0,   0,   0,   1,   0,   0,   8,   8,  71,\n",
              "         55,  11,  32,  30,  30,  17,   4,   3,   9,  15,  17,  29,  37,\n",
              "         92, 106],\n",
              "       [  0,   0,   0,  58,  50, 142, 169,  80, 144, 156, 148, 159, 152,\n",
              "        156, 136, 151, 142,  70, 139, 161,  98, 131, 145,  60, 141, 121,\n",
              "         77,   0],\n",
              "       [  0,   0,   0,   0,   0,   0,   0,   0,   0,   0,   0,   0,   0,\n",
              "          0,   0,   0,   0,   0,   0,   0,   0,   0,   0,   0,   0,   0,\n",
              "          0,   0],\n",
              "       [  0,   0,   0,   0,   0,   0,   0,   0,   0,   0,   0,   0,   0,\n",
              "          0,   0,   0,   0,   0,   0,   0,   0,   0,   0,   0,   0,   0,\n",
              "          0,   0],\n",
              "       [  0,   0,   0,   0,   0,   0,   0,   0,   0,   0,   0,   0,   0,\n",
              "          0,   0,   0,   0,   0,   0,   0,   0,   0,   0,   0,   0,   0,\n",
              "          0,   0],\n",
              "       [  0,   0,   0,   0,   0,   0,   0,   0,   0,   0,   0,   0,   0,\n",
              "          0,   0,   0,   0,   0,   0,   0,   0,   0,   0,   0,   0,   0,\n",
              "          0,   0],\n",
              "       [  0,   0,   0,   0,   0,   0,   0,   0,   0,   0,   0,   0,   0,\n",
              "          0,   0,   0,   0,   0,   0,   0,   0,   0,   0,   0,   0,   0,\n",
              "          0,   0],\n",
              "       [  0,   0,   0,   0,   0,   0,   0,   0,   0,   0,   0,   0,   0,\n",
              "          0,   0,   0,   0,   0,   0,   0,   0,   0,   0,   0,   0,   0,\n",
              "          0,   0]], dtype=uint8)"
            ]
          },
          "metadata": {},
          "execution_count": 7
        }
      ]
    },
    {
      "cell_type": "markdown",
      "metadata": {
        "id": "RyeKfI1MeS1H"
      },
      "source": [
        "One more thing to think about: the output of `y = mx + b` is a number, but here, we're trying to classify different articles of clothing. How might we convert numbers into categories?\n",
        "\n",
        "Here is a simple approach: we can make ten neurons, one for each article of clothing. If the neuron assigned to \"Trousers\" (label #1), has the highest output compared to the other neurons, the model will guess \"Trousers\" for the given input image.\n",
        "\n",
        "[Keras](https://keras.io/), a deep learning framework that has been integrated into TensorFlow, makes such a model easy to build. We will use the [Sequential API](https://keras.io/guides/sequential_model/), which allows us to stack [layers](https://keras.io/api/layers/), the list of operations we will be applying to our data as it is fed through the network.\n",
        "\n",
        "In the below model, we have two layers:\n",
        "* [Flatten](https://www.tensorflow.org/api_docs/python/tf/keras/layers/Flatten) - Converts multidimensional data into 1 dimensional data (ex: a list of lists into a single list).\n",
        "* [Dense](https://www.tensorflow.org/api_docs/python/tf/keras/layers/Dense) -  A \"row\" of neurons. Each neuron has a weight (`w`) for each input. In the example below, we use the number `10` to place ten neurons.\n",
        "\n",
        "We will also define an `input_shape` which is the dimensions of our data. In this case, our `28x28` pixels for each image."
      ]
    },
    {
      "cell_type": "code",
      "metadata": {
        "id": "SIgbDeIbqELs",
        "colab": {
          "base_uri": "https://localhost:8080/"
        },
        "outputId": "2dce206c-74d8-41aa-bda9-0d4518296c7c"
      },
      "source": [
        "number_of_classes = train_labels.max() + 1\n",
        "number_of_classes"
      ],
      "execution_count": 8,
      "outputs": [
        {
          "output_type": "execute_result",
          "data": {
            "text/plain": [
              "10"
            ]
          },
          "metadata": {},
          "execution_count": 8
        }
      ]
    },
    {
      "cell_type": "code",
      "metadata": {
        "id": "-_dqJnVc_u_k"
      },
      "source": [
        "model = tf.keras.Sequential([\n",
        "    tf.keras.layers.Flatten(input_shape=(28, 28)),\n",
        "    tf.keras.layers.Dense(number_of_classes)\n",
        "])"
      ],
      "execution_count": 9,
      "outputs": []
    },
    {
      "cell_type": "code",
      "metadata": {
        "id": "wYSHZNPEA1tb",
        "colab": {
          "base_uri": "https://localhost:8080/"
        },
        "outputId": "e12d9b98-b3d4-43e3-ceb1-ddcbb6105245"
      },
      "source": [
        "model.summary()"
      ],
      "execution_count": 10,
      "outputs": [
        {
          "output_type": "stream",
          "name": "stdout",
          "text": [
            "Model: \"sequential\"\n",
            "_________________________________________________________________\n",
            "Layer (type)                 Output Shape              Param #   \n",
            "=================================================================\n",
            "flatten (Flatten)            (None, 784)               0         \n",
            "_________________________________________________________________\n",
            "dense (Dense)                (None, 10)                7850      \n",
            "=================================================================\n",
            "Total params: 7,850\n",
            "Trainable params: 7,850\n",
            "Non-trainable params: 0\n",
            "_________________________________________________________________\n"
          ]
        }
      ]
    },
    {
      "cell_type": "code",
      "metadata": {
        "id": "00aNzMfrQARw",
        "colab": {
          "base_uri": "https://localhost:8080/"
        },
        "outputId": "dcedbc9c-384e-48b9-de52-a69794b3326e"
      },
      "source": [
        "image_height = 28\n",
        "image_width = 28\n",
        "\n",
        "number_of_weights = image_height * image_width * number_of_classes\n",
        "number_of_weights"
      ],
      "execution_count": 11,
      "outputs": [
        {
          "output_type": "execute_result",
          "data": {
            "text/plain": [
              "7840"
            ]
          },
          "metadata": {},
          "execution_count": 11
        }
      ]
    },
    {
      "cell_type": "code",
      "metadata": {
        "id": "3wY9VLOKKyKw",
        "colab": {
          "base_uri": "https://localhost:8080/",
          "height": 312
        },
        "outputId": "549ea02d-198e-488b-99fa-31167c9db11a"
      },
      "source": [
        "tf.keras.utils.plot_model(model, show_shapes=True)"
      ],
      "execution_count": 12,
      "outputs": [
        {
          "output_type": "execute_result",
          "data": {
            "image/png": "[encoded data removed]",
            "text/plain": [
              "<IPython.core.display.Image object>"
            ]
          },
          "metadata": {},
          "execution_count": 12
        }
      ]
    },
    {
      "cell_type": "markdown",
      "metadata": {
        "id": "Rl3O8TwAlPNJ"
      },
      "source": [
        "## Initiate Training\n",
        "\n",
        "We have a model setup, but how does it learn? Just like how students are scored when they take a test, we need to give the model a function to grade its performance. Such a function is called the `loss` function.\n",
        "\n",
        "In this case, we're going to use a type of function specific to classification called [SparseCategoricalCrossentropy](https://www.tensorflow.org/api_docs/python/tf/keras/losses/SparseCategoricalCrossentropy):\n",
        "* **Sparse** - for this function, it refers to how our label is an interger index for our categories\n",
        "* **Categorical** - this function was made for classification\n",
        "* **Cross-entropy** - the more confident our model is when it makes an incorrect guess, the worse its score will be. If a model is 100% confident when it is wrong, it will have a score of negative infinity!\n",
        "* `from_logits` - the linear output will be transformed into a probability which can be interpreted as the model's confidence a particular category is the correct one for the given input.\n",
        "\n",
        "This type of loss function works well for our case as it will grade each of the neurons simultaneously. If all of our neurons give a strong signal that they're the correct label, we need a way to tell them that they can't all be right.\n",
        "\n",
        "For us humans, we can add additional `metrics` to monitor how well our model is learning. For instance, maybe the loss is low, but what if the `accuracy` is not high?"
      ]
    },
    {
      "cell_type": "code",
      "metadata": {
        "id": "f3g_iubVAJoT"
      },
      "source": [
        "model.compile(optimizer='adam',\n",
        "              loss=tf.keras.losses.SparseCategoricalCrossentropy(from_logits=True),\n",
        "              metrics=['accuracy'])"
      ],
      "execution_count": 13,
      "outputs": []
    },
    {
      "cell_type": "code",
      "metadata": {
        "id": "A0adp_qwA4Kg",
        "colab": {
          "base_uri": "https://localhost:8080/"
        },
        "outputId": "0a367615-327f-4c82-a095-1b421c3e36d7"
      },
      "source": [
        "history = model.fit(\n",
        "    train_images,\n",
        "    train_labels,\n",
        "    epochs=5,\n",
        "    verbose=True,\n",
        "    validation_data=(valid_images, valid_labels)\n",
        ")"
      ],
      "execution_count": 14,
      "outputs": [
        {
          "output_type": "stream",
          "name": "stdout",
          "text": [
            "Epoch 1/5\n",
            "1875/1875 [==============================] - 7s 3ms/step - loss: 16.5562 - accuracy: 0.7489 - val_loss: 15.7668 - val_accuracy: 0.7662\n",
            "Epoch 2/5\n",
            "1875/1875 [==============================] - 5s 2ms/step - loss: 11.8330 - accuracy: 0.7897 - val_loss: 9.8603 - val_accuracy: 0.8082\n",
            "Epoch 3/5\n",
            "1875/1875 [==============================] - 5s 2ms/step - loss: 10.9905 - accuracy: 0.7948 - val_loss: 10.1790 - val_accuracy: 0.7964\n",
            "Epoch 4/5\n",
            "1875/1875 [==============================] - 5s 2ms/step - loss: 10.4205 - accuracy: 0.8004 - val_loss: 13.1090 - val_accuracy: 0.7663\n",
            "Epoch 5/5\n",
            "1875/1875 [==============================] - 5s 2ms/step - loss: 10.4451 - accuracy: 0.8010 - val_loss: 17.5917 - val_accuracy: 0.7619\n"
          ]
        }
      ]
    },
    {
      "cell_type": "code",
      "metadata": {
        "id": "XcDRhkVWD168",
        "colab": {
          "base_uri": "https://localhost:8080/"
        },
        "outputId": "a49125be-76d8-4e12-fcd5-ddfc9337bec7"
      },
      "source": [
        "model.predict(train_images[0:10])"
      ],
      "execution_count": 15,
      "outputs": [
        {
          "output_type": "execute_result",
          "data": {
            "text/plain": [
              "array([[-2.72309418e+02, -6.29265991e+02, -1.48240448e+02,\n",
              "        -3.04287292e+02, -2.62358246e+02,  4.04356567e+02,\n",
              "        -6.66822357e+01,  3.52454407e+02,  1.43755692e+02,\n",
              "         6.60143555e+02],\n",
              "       [ 6.13844788e+02, -2.70845612e+02,  1.49858749e+02,\n",
              "         1.61934814e+02, -2.92762756e+01, -1.22549512e+03,\n",
              "         2.62946960e+02, -1.70582068e+03, -1.39835876e+02,\n",
              "        -9.54272034e+02],\n",
              "       [ 2.28563583e+02,  6.38620644e+01,  1.15611488e+02,\n",
              "         1.60987122e+02,  1.34420044e+02, -4.64505005e+02,\n",
              "         1.23717628e+02, -4.37717468e+02, -3.56350441e+01,\n",
              "        -2.16500656e+02],\n",
              "       [ 3.14445312e+02,  4.27467499e+01,  1.19632019e+02,\n",
              "         2.59847076e+02,  1.00278206e+02, -8.00684875e+02,\n",
              "         1.88212570e+02, -9.38515747e+02, -1.47094162e+02,\n",
              "        -7.07383301e+02],\n",
              "       [ 4.44294128e+02,  1.99979233e+02,  1.48794876e+02,\n",
              "         2.97320648e+02,  2.73940704e+02, -9.43392700e+02,\n",
              "         1.90307541e+02, -6.85627686e+02,  4.39774475e+01,\n",
              "        -7.47576965e+02],\n",
              "       [ 2.20630173e+02, -1.44378403e+02,  3.49578522e+02,\n",
              "         1.17239967e+02,  2.63816315e+02, -8.22635437e+02,\n",
              "         1.85287354e+02, -1.44190112e+03, -1.27667212e+00,\n",
              "        -9.90964600e+02],\n",
              "       [-1.64110504e+02, -2.62148102e+02, -3.38259964e+01,\n",
              "        -1.27692085e+02, -7.93008499e+01,  2.00259506e+02,\n",
              "        -8.52486038e+01,  2.56232697e+02,  9.44972763e+01,\n",
              "         1.35074249e+02],\n",
              "       [ 1.60685410e+02, -3.75566711e+02,  3.41993866e+02,\n",
              "         1.00889864e+01,  3.93309021e+02, -1.01835956e+03,\n",
              "         2.27414551e+02, -1.73747278e+03, -3.59310951e+01,\n",
              "        -8.18843384e+02],\n",
              "       [-7.37937622e+01, -5.21451477e+02, -1.87984863e+02,\n",
              "        -1.89779388e+02, -2.89735840e+02,  4.46939026e+02,\n",
              "        -1.16033333e+02, -5.20735435e+01, -1.22798515e+02,\n",
              "         1.95147873e+02],\n",
              "       [-1.30424408e+02, -4.71636047e+02, -3.23013649e+01,\n",
              "        -1.12422935e+02, -2.08157959e+02,  7.55084412e+02,\n",
              "         1.58632231e+01, -2.83165710e+02, -4.04538822e+00,\n",
              "         1.92564346e+02]], dtype=float32)"
            ]
          },
          "metadata": {},
          "execution_count": 15
        }
      ]
    },
    {
      "cell_type": "code",
      "metadata": {
        "id": "7wiFSYdcM4Nt",
        "colab": {
          "base_uri": "https://localhost:8080/",
          "height": 530
        },
        "outputId": "d87a794f-53b6-4494-8f48-1fe16f9d68a4"
      },
      "source": [
        "data_idx = 8009 # The question number to study with. Feel free to change up to 59999.\n",
        "\n",
        "plt.figure()\n",
        "plt.imshow(train_images[data_idx], cmap='gray')\n",
        "plt.colorbar()\n",
        "plt.grid(False)\n",
        "plt.show()\n",
        "\n",
        "x_values = range(number_of_classes)\n",
        "plt.figure()\n",
        "plt.bar(x_values, model.predict(train_images[data_idx:data_idx+1]).flatten())\n",
        "plt.xticks(range(10))\n",
        "plt.show()\n",
        "\n",
        "print(\"correct answer:\", train_labels[data_idx])"
      ],
      "execution_count": 18,
      "outputs": [
        {
          "output_type": "display_data",
          "data": {
            "image/png": "[encoded data removed]",
            "text/plain": [
              "<Figure size 432x288 with 2 Axes>"
            ]
          },
          "metadata": {
            "needs_background": "light"
          }
        },
        {
          "output_type": "display_data",
          "data": {
            "image/png": "[encoded data removed]",
            "text/plain": [
              "<Figure size 432x288 with 1 Axes>"
            ]
          },
          "metadata": {
            "needs_background": "light"
          }
        },
        {
          "output_type": "stream",
          "name": "stdout",
          "text": [
            "correct answer: 7\n"
          ]
        }
      ]
    }
  ]
}