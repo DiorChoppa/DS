{
 "cells": [
  {
   "cell_type": "markdown",
   "metadata": {},
   "source": [
    "1. Распаковка:"
   ]
  },
  {
   "cell_type": "code",
   "execution_count": null,
   "metadata": {},
   "outputs": [],
   "source": [
    "x, y, z = input().strip().split()\n",
    "x, y, z = map(int, (x, y, z))\n",
    "print(f\"{x=}, {y=}, {z=}\")"
   ]
  },
  {
   "cell_type": "code",
   "execution_count": null,
   "metadata": {},
   "outputs": [],
   "source": [
    "x, y, z = map(int, input().strip().split())\n",
    "volume = x * y * z\n",
    "print(f\"{volume=}\")"
   ]
  },
  {
   "cell_type": "markdown",
   "metadata": {},
   "source": [
    "2. Reduce вместо цикла:"
   ]
  },
  {
   "cell_type": "code",
   "execution_count": null,
   "metadata": {},
   "outputs": [],
   "source": [
    "import from functools reduce\n",
    "\n",
    "volume = reduce(\n",
    "    lambda x, y: x * y,\n",
    "    map(int, input().strip().split())\n",
    ")\n",
    "print(f\"{volume=}\")"
   ]
  },
  {
   "cell_type": "markdown",
   "metadata": {},
   "source": [
    "3. Comprehensions вместо цикла:"
   ]
  },
  {
   "cell_type": "code",
   "execution_count": 3,
   "metadata": {},
   "outputs": [
    {
     "name": "stdout",
     "output_type": "stream",
     "text": [
      "['Кристина', 'Кирилл']\n"
     ]
    }
   ],
   "source": [
    "names = [\"Александра\", \"Анна\", \"Кристина\", \"Кирилл\"]\n",
    "names_starts_K = [name for name in names if name.startswith(\"К\")]\n",
    "print(names_starts_K)"
   ]
  },
  {
   "cell_type": "markdown",
   "metadata": {},
   "source": [
    "4. Функция filter:"
   ]
  },
  {
   "cell_type": "code",
   "execution_count": 6,
   "metadata": {},
   "outputs": [
    {
     "name": "stdout",
     "output_type": "stream",
     "text": [
      "('Кристина', 'Кирилл')\n"
     ]
    }
   ],
   "source": [
    "names = [\"Александра\", \"Анна\", \"Кристина\", \"Кирилл\"]\n",
    "names_starts_K = filter(lambda name: name.startswith(\"К\"), names)\n",
    "print(tuple(names_starts_K))"
   ]
  },
  {
   "cell_type": "markdown",
   "metadata": {},
   "source": [
    "5. Быстрое копирование:"
   ]
  },
  {
   "cell_type": "code",
   "execution_count": 7,
   "metadata": {},
   "outputs": [
    {
     "name": "stdout",
     "output_type": "stream",
     "text": [
      "[1, 2, 3, 4] [1, 2, 3]\n"
     ]
    }
   ],
   "source": [
    "array1 = [1, 2, 3]\n",
    "array2 = array1[:]\n",
    "array1.append(4)\n",
    "print(array1, array2)"
   ]
  },
  {
   "cell_type": "markdown",
   "metadata": {},
   "source": [
    "6. Оператор all() (есть еще any() - хотя бы один из):"
   ]
  },
  {
   "cell_type": "code",
   "execution_count": 8,
   "metadata": {},
   "outputs": [
    {
     "name": "stdout",
     "output_type": "stream",
     "text": [
      "All true!\n"
     ]
    }
   ],
   "source": [
    "a = b = c = True\n",
    "if all((a, b, c)): print(\"All true!\")"
   ]
  },
  {
   "cell_type": "markdown",
   "metadata": {},
   "source": [
    "7. Конфигурирование:"
   ]
  },
  {
   "cell_type": "code",
   "execution_count": null,
   "metadata": {},
   "outputs": [],
   "source": [
    "class User:\n",
    "    def __init__(self, group: str):\n",
    "        self.group = group\n",
    "        \n",
    "        \n",
    "user = User(group = \"admin\")\n",
    "if user.group == \"admin\":\n",
    "    process_admin_request(user, request)\n",
    "elif user.group == \"manager\":\n",
    "    process_manager_request(user, request)\n",
    "    \n",
    "    \n",
    "group_to_process = {\n",
    "    \"admin\": process_admin_request,\n",
    "    \"manager\": process_manager_request\n",
    "}\n",
    "\n",
    "group_to_process[user.group](user, request)"
   ]
  }
 ],
 "metadata": {
  "kernelspec": {
   "display_name": "Python 3",
   "language": "python",
   "name": "python3"
  },
  "language_info": {
   "codemirror_mode": {
    "name": "ipython",
    "version": 3
   },
   "file_extension": ".py",
   "mimetype": "text/x-python",
   "name": "python",
   "nbconvert_exporter": "python",
   "pygments_lexer": "ipython3",
   "version": "3.8.10"
  }
 },
 "nbformat": 4,
 "nbformat_minor": 2
}
