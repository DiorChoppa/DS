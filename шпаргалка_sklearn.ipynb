{
 "cells": [
  {
   "cell_type": "markdown",
   "metadata": {},
   "source": [
    "# Шпаргалка - `scikit-learn`\n",
    "\n",
    "`scikit-learn` - это центральная библиотека машинного обучения. Существует много разных библиотек, которые содержат другие алгоритмы. Но стоит заметить, что де-факто `scikit-learn` содержит необходимый минимум, чтобы можно было работать с данными."
   ]
  },
  {
   "cell_type": "markdown",
   "metadata": {},
   "source": [
    "## Видео шаг по шагу (доп. поддержка для начинающих)"
   ]
  },
  {
   "cell_type": "code",
   "execution_count": 1,
   "metadata": {},
   "outputs": [
    {
     "data": {
      "text/html": [
       "<iframe style=\"height:500px;width:100%\" src=\"https://www.youtube.com/embed/wv7p1zuGyx4\" frameborder=\"0\" allow=\"autoplay; encrypted-media\" allowfullscreen></iframe>\n"
      ],
      "text/plain": [
       "<IPython.core.display.HTML object>"
      ]
     },
     "metadata": {},
     "output_type": "display_data"
    }
   ],
   "source": [
    "%%html\n",
    "<iframe style=\"height:500px;width:100%\" src=\"https://www.youtube.com/embed/wv7p1zuGyx4\" frameborder=\"0\" allow=\"autoplay; encrypted-media\" allowfullscreen></iframe>"
   ]
  },
  {
   "cell_type": "markdown",
   "metadata": {},
   "source": [
    "Существует много библиотек, как в Python, так и в других языках программирования. Но стоит признать (и это не только мое личное мнение), что scikit-learn, действительно, ввел три стандартные строчки, которые помогли очень сильно упростить способ мышления и легко подменять модель А на модель Б.\n",
    "\n",
    "Что это за три строчки? Сейчас увидим на примере, но сразу стоит вчитать (проимпортировать) библиотеку."
   ]
  },
  {
   "cell_type": "code",
   "execution_count": null,
   "metadata": {},
   "outputs": [],
   "source": [
    "import pandas as pd\n",
    "import numpy as np\n",
    "from tqdm import tqdm\n",
    "\n",
    "from sklearn.dummy import DummyRegressor\n",
    "from sklearn.tree import DecisionTreeRegressor\n",
    "import xgboost as xgb\n",
    "\n",
    "from sklearn.model_selection import cross_val_score, KFold\n",
    "\n",
    "from sklearn.metrics import mean_absolute_error"
   ]
  },
  {
   "cell_type": "markdown",
   "metadata": {},
   "source": [
    "Вчитываем данные."
   ]
  },
  {
   "cell_type": "code",
   "execution_count": null,
   "metadata": {},
   "outputs": [],
   "source": [
    "df = pd.read_hdf(\"../input/train_data.h5\")\n",
    "print(df.shape)"
   ]
  },
  {
   "cell_type": "markdown",
   "metadata": {},
   "source": [
    "## Целевая переменная\n",
    "Нужно вытянуть число (цену) из `price`, которую сразу поделим на миллион, чтобы уменьшить кол-во нулей."
   ]
  },
  {
   "cell_type": "code",
   "execution_count": null,
   "metadata": {},
   "outputs": [],
   "source": [
    "def parse_price(x):\n",
    "    return int(x.split(\"₽\")[0].replace(\" \", \"\"))\n",
    "\n",
    "df[\"price_num\"] = df[\"price\"].map(parse_price).map(lambda x: x/1000000)"
   ]
  },
  {
   "cell_type": "markdown",
   "metadata": {},
   "source": [
    "`price_num` - это наша целевая переменная, т.е. это цена за недвижимость в миллионах рублей.\n",
    "\n",
    "Обычно целевую переменную называют `y` (с маленькой буквы, потому что - это вектор - \"один столбец\").\n",
    "\n",
    "\n",
    "Для того, чтобы тренировать модель машинного обучения, еще нужна матрица (таблица) признаков - `X`.\n",
    "\n",
    "\n",
    "В колонке `params` очень много характеристик для недвижимости. Вот как пример:"
   ]
  },
  {
   "cell_type": "code",
   "execution_count": null,
   "metadata": {},
   "outputs": [],
   "source": [
    "df[\"params\"].head(2).values"
   ]
  },
  {
   "cell_type": "markdown",
   "metadata": {},
   "source": [
    "### Первая строка (недвижимость)\n",
    "```\n",
    "{\n",
    "    'Охрана:': 'закрытая территория', \n",
    "    'Тип здания:': 'Монолитное', \n",
    "    'Тип объекта:': 'квартиры', \n",
    "    'Количество корпусов:': '1', \n",
    "    'Тип объявления:': 'в новостройке', \n",
    "    'Застройщик:': 'Доходный дом', \n",
    "    'Общая площадь:': '54.3 м²', \n",
    "    'Дата публикации:': '22 апреля', \n",
    "    'Количество комнат:': '2', \n",
    "    'Парковка:': 'отдельная многоуровневая, гостевая', \n",
    "    'Дата  обновления:': '18 мая', \n",
    "    'Количество этажей:': '11', \n",
    "    'Сдача:': '1 кв. 2020 года', \n",
    "    'Комиссия агенту:': 'без комиссии', \n",
    "    'Высота потолков:': '2.8 м', \n",
    "    'Этаж:': '8/11', \n",
    "    'Этап строительства:': \n",
    "    'Возведение стен', 'Новостройка:': \n",
    "    'Апарт-комплекс Nord, м. Алтуфьево', \n",
    "    'Количество квартир:': '163', \n",
    "    'Класс жилья:': 'Комфорт класс', \n",
    "    'Адрес:': ''}\n",
    "```\n",
    "\n",
    "\n",
    "### Вторая строка (недвижимость)\n",
    "```\n",
    "{\n",
    "    'Лифт:': 'да', \n",
    "    'Тип здания:': 'Монолитное', \n",
    "    'Тип объекта:': 'квартира', \n",
    "    'Количество корпусов:': '5', \n",
    "    'Тип объявления:': 'в новостройке', \n",
    "    'Застройщик:': 'MR Group', \n",
    "    'Общая площадь:': '38 м²', \n",
    "    'Вид из окна:': 'на улицу', \n",
    "    'Количество комнат:': '2', \n",
    "    'Парковка:': 'подземная', \n",
    "    'Дата  обновления:': '16 мая', \n",
    "    'Класс жилья:': 'Комфорт класс', \n",
    "    'Дата публикации:': '10 мая', \n",
    "    'Количество этажей:': '31', \n",
    "    'Сдача:': '2 кв. 2021 года', \n",
    "    'Комиссия агенту:': 'без комиссии', \n",
    "    'Высота потолков:': '3.15 м', \n",
    "    'Этаж:': '6/31', \n",
    "    'Этап строительства:': 'Возведение стен', \n",
    "    'Новостройка:': 'ЖК Discovery (ЖК «Дискавери»), м. Ховрино', \n",
    "    'Количество квартир:': '1251', \n",
    "    'Возможна ипотека:': 'да', \n",
    "    'Адрес:': ''}\n",
    "```\n",
    "\n",
    "\n",
    "Обрати внимание, что каждая недвижимость описана при помощи различных характеристик. Например, информация о том, есть ли лифт или тип здания. Таке можешь заметить, что разная недвижимость имеет общие характеристики, но не всегда те же самые.\n",
    "\n",
    "Кстати, эти характеристики в машинном обучении называются признакамии (анг. `features`). Важно, чтобы в итоге каждый объект был описан теми самыми признаками. А как же это сделать, если у нас такая инфомрация не всегда имеется? Если в оригинальных данных нет какого-то значения - тогда там будет на называемый `NaN` (т.е. отсутсвие значения).\n",
    "\n",
    "Давай вытянем все значения и добавим их к `params`."
   ]
  },
  {
   "cell_type": "code",
   "execution_count": null,
   "metadata": {},
   "outputs": [],
   "source": [
    "params = df[\"params\"].apply(pd.Series)\n",
    "print(params.shape)\n",
    "params"
   ]
  },
  {
   "cell_type": "markdown",
   "metadata": {},
   "source": [
    "Получается, что у нас есть до 55 характеристик (признаков) для каждой недвижимости. Не всегда все 55 признаков имеют значения - там где есть пропуски, мы видим значения `NaN`.\n",
    "\n",
    "Для начала можем заполнить просто значением -1. Почему так? Чтобы не было пропусков."
   ]
  },
  {
   "cell_type": "code",
   "execution_count": null,
   "metadata": {},
   "outputs": [],
   "source": [
    "params = params.fillna(-1)\n",
    "params"
   ]
  },
  {
   "cell_type": "markdown",
   "metadata": {},
   "source": [
    "Для того, чтобы начать тренировать модель, нужно приготовить данные, чтобы там были только числа. Поэтому давай сейчас сделаем такой трик, что вытянуть данные типа `object` (обычно это строки), используя функцию `.factorize()`."
   ]
  },
  {
   "cell_type": "code",
   "execution_count": null,
   "metadata": {},
   "outputs": [],
   "source": [
    "obj_feats = params.select_dtypes(object).columns\n",
    "obj_feats"
   ]
  },
  {
   "cell_type": "markdown",
   "metadata": {},
   "source": [
    "Вот все эти столбцы типа `object`. Запускаем теперь `.factorize()` и результат записываем в новую переменную с префиксом `_cat`."
   ]
  },
  {
   "cell_type": "code",
   "execution_count": null,
   "metadata": {},
   "outputs": [],
   "source": [
    "for feat in obj_feats:\n",
    "    df[\"{}_cat\".format(feat)] = params[feat].factorize()[0]\n",
    "    \n",
    "\n",
    "cat_feats = [x for x in df.columns if \"_cat\" in x]\n",
    "cat_feats"
   ]
  },
  {
   "cell_type": "markdown",
   "metadata": {},
   "source": [
    "Все это пусть будет нашими признаками и, таким образом, можем создать матрицу (таблицу) признаков - X."
   ]
  },
  {
   "cell_type": "code",
   "execution_count": null,
   "metadata": {},
   "outputs": [],
   "source": [
    "X = df[cat_feats]\n",
    "y = df[\"price_num\"]\n",
    "\n",
    "X.shape, y.shape"
   ]
  },
  {
   "cell_type": "markdown",
   "metadata": {},
   "source": [
    "Напомню еще раз `X` - это таблица, поэтому пишем с большой буквы, а `y` - пишем с маленькой буквы, потому что это вектор (один столбец из таблицы).\n",
    "\n",
    "\n",
    "Важно, чтобы количество строк было одинаковым: 22 732.\n",
    "\n",
    "\n",
    "## Тренируем модель\n",
    "Три \"главные\" строчки из scikit-learn ;)."
   ]
  },
  {
   "cell_type": "code",
   "execution_count": null,
   "metadata": {},
   "outputs": [],
   "source": [
    "model = DummyRegressor()\n",
    "model.fit(X, y)\n",
    "y_pred = model.predict(X)"
   ]
  },
  {
   "cell_type": "markdown",
   "metadata": {},
   "source": [
    "В первой строчке мы выбираем, какой будем использовать алгоритм. \n",
    "Во второй строчке тренируем модель - `.fit(X, y)`. Чтобы тренировать модель нам нужен `X` (таблица признаков) и `y` (целевая функция).\n",
    "В третьей строчке, когда модель уже обучена - делаем прогнозирование и результат (прогнозирования) записываем в переменную `y_pred`.\n",
    "\n",
    "Если мы решились поменять модель А на модель Б, то нужно будет поменять только первую строчку и все. Но, возможно, Тебе приходилось увидеть различные кошмары, так называемого кода \"спагетти\", где для того, чтобы начать использовать другой алгоритм, обычно нужно очень сильно помучаться.\n",
    "\n",
    "Часто можно сделать так, что мы итерируем различные модели автоматически. Обычно это имеется в виду так называемый  `automl`. Хотя концептуально `automl`, значит полностью автоматизированное машинное обучение. На практие не все так просто и только некоторые шаги во всем процессе машинного обучения можно легко автоматизировать. Кстати, этот процесc перебора моделей, называется - выбор модели (анг. `model selection`).\n",
    "\n",
    "\n",
    "А насколько хороший у нас результат? Для этого обычно используют метрики успеха.\n",
    "Существуют различные метрики. Одна из них `mean_asbolute_error`."
   ]
  },
  {
   "cell_type": "code",
   "execution_count": null,
   "metadata": {},
   "outputs": [],
   "source": [
    "mean_absolute_error(y, y_pred)"
   ]
  },
  {
   "cell_type": "markdown",
   "metadata": {},
   "source": [
    "Для упрощения, можно сказать, что это плюс/минус. Получается, мы ошибаемся на данный момент плюс/минус на 13 млн. рублей. Много это или мало? В данном случае в среднем цена недвижимостти 17 млн. рублей."
   ]
  },
  {
   "cell_type": "code",
   "execution_count": null,
   "metadata": {},
   "outputs": [],
   "source": [
    "df[\"price_num\"].mean()"
   ]
  },
  {
   "cell_type": "markdown",
   "metadata": {},
   "source": [
    "Поэтому ошибиться на 13 млн, когда в среднем цена 17млн. - это достаточно грубо. Но стоит заметить, что на данный момент - это очень простая модель. Давай выберем чуть труднее модель - дерево решений."
   ]
  },
  {
   "cell_type": "code",
   "execution_count": null,
   "metadata": {},
   "outputs": [],
   "source": [
    "model = DecisionTreeRegressor(max_depth=7)\n",
    "model.fit(X, y)\n",
    "y_pred = model.predict(X)\n",
    "\n",
    "mean_absolute_error(y, y_pred)"
   ]
  },
  {
   "cell_type": "markdown",
   "metadata": {},
   "source": [
    "Как видишь, в коде поменялась только одна строчка - первая: `model = DecisionTreeRegressor(max_depth=7)`. Все остальное без изменений.\n",
    "\n",
    "Видно, что качество стало лучше.\n",
    "\n",
    "\n",
    "Теперь можем попробовать еще более сложную модель `xgboost`. Что интересно, `xgboost` - это библиотека, написанная на С++ (это другой язык программирования). В данном случае Python - это только интерфейс к этой библиотеке. Интересно также, что этот интерфейс был так написан, чтобы он подходил под стандарты scikit-learn (хотя это было не сразу). Но благодаря этому, опять заменяем только одну строку (первую) и тренируем новую модель (в данном случае `xgboost`)."
   ]
  },
  {
   "cell_type": "code",
   "execution_count": null,
   "metadata": {},
   "outputs": [],
   "source": [
    "model = xgb.XGBRegressor(max_depth=7, n_estimators=50, random_state=0)\n",
    "model.fit(X, y)\n",
    "y_pred = model.predict(X)\n",
    "\n",
    "mean_absolute_error(y, y_pred)"
   ]
  },
  {
   "cell_type": "markdown",
   "metadata": {},
   "source": [
    "Получаем еще лучше результат, около 2.5 млн рублей. Но, рано радоваться. Ведь в данном случае, скорее всего, модель переобучилась. \n",
    "Обрати внимание, что мы тренируем и прогнозируем модель на тех же самых данных (тот же самый `X`). И как результат - модель вместо того, чтобы обобщить знания - могла просто запомнить конкретные случаи.\n",
    "\n",
    "\n",
    "Чтобы бороться с переобучением, существуют разные способы. Например, валидация (на практике часто применяется кросс-валидация). Самый простой способ - применить `.cross_val_score()`."
   ]
  },
  {
   "cell_type": "code",
   "execution_count": null,
   "metadata": {},
   "outputs": [],
   "source": [
    "model = xgb.XGBRegressor(max_depth=7, n_estimators=50, random_state=0)\n",
    "scores = cross_val_score(model, X, y, scoring=\"neg_mean_absolute_error\")\n",
    "np.mean(scores), np.std(scores)"
   ]
  },
  {
   "cell_type": "markdown",
   "metadata": {},
   "source": [
    "В данном случае видно, что качество около 5млн рублей.\n",
    "\n",
    "\n",
    "## Кросс-валидация\n",
    "А как это работает?\n",
    "\n",
    "1. Берем все наши данные (все строчки) - 100%\n",
    "2. Решаем - на сколько частей хотим поделить данные (кстати, эти части называются фолдами - анг. `fold`), например, может быть 5 или 10 частей\n",
    "3. Делим наши данные на количество частей (шаг 2) \n",
    "4. Дале одна часть попадает в тест, а все остальные для тренировки\n",
    "5. Каждая часть один раз будет в тесте.\n",
    "\n",
    "Давай посмотрим на примере.\n",
    "1. Представь, что у нас 100 строк.\n",
    "2. Мы решаем, что у нас будет 4 части (фолда).\n",
    "3. Делим наши данные на 4 частии (1-25, 26-50, 51-75, 76-100).\n",
    "\n",
    "Так как мы выбрали 4 части - это значит мы будем тренировать 4 модели. Каждая часть - один раз.\n",
    "\n",
    "```\n",
    "model = ...\n",
    "model.fit(X_train, y_train)\n",
    "y_pred = model.predict(X_test)\n",
    "```\n",
    "\n",
    "#### Итерация 1\n",
    "- `X_train`, `y_train` => строчки от 26 до 100.\n",
    "- `X_test`, `y_test` => строчки 1-25\n",
    "\n",
    "\n",
    "#### Итерация 2\n",
    "- `X_train`, `y_train` => строчки от 1 до 25 и от 51 до 100.\n",
    "- `X_test`, `y_test` => строчки 26-50\n",
    "\n",
    "#### Итерация 3\n",
    "- `X_train`, `y_train` => строчки от 1 до 50 и от 76 до 100.\n",
    "- `X_test`, `y_test` => строчки 51-75\n",
    "\n",
    "#### Итерация 4\n",
    "- `X_train`, `y_train` => строчки от 1 до 75.\n",
    "- `X_test`, `y_test` => строчки 76-100\n",
    "\n",
    "\n",
    "    Используем функцию `cross_val_score()`, в которой есть параметр `cv`, для данного параметра указываем значение, например, 4 - `cv=4`, что означает, что будет 4 части (фолда), т.е. пример, который мы разобрали выше.\n",
    "\n",
    "\n",
    "Вот еще визуально, то же самое - чтобы закрепить материал (здесь было 5 частей - фолдов). Плюс там еще более сложная структура. Ну это уже нюансы, с которыми стоит разобраться на следующем шаге.\n",
    "![](../images/cv.png)\n",
    "*Рисунок взят с сайтa [scikit-learn](https://scikit-learn.org/stable/modules/cross_validation.html)*\n",
    "\n",
    "\n",
    "Функция  `cross_val_score` обычно очень удобная, но этого не всегда достаточно. Тогда можно код расписать на более мелкие шаги."
   ]
  },
  {
   "cell_type": "code",
   "execution_count": null,
   "metadata": {},
   "outputs": [],
   "source": [
    "cv = KFold(n_splits=5, shuffle=True, random_state=0)\n",
    "scores = []\n",
    "for train_idx, test_idx in tqdm(cv.split(X)):\n",
    "    X_train, X_test = X.iloc[train_idx], X.iloc[test_idx]\n",
    "    y_train, y_test = y.iloc[train_idx], y.iloc[test_idx]\n",
    "\n",
    "    model = xgb.XGBRegressor(max_depth=7, n_estimators=50, random_state=0)\n",
    "    model.fit(X_train, y_train)\n",
    "    y_pred = model.predict(X_test)\n",
    "    score = mean_absolute_error(y_test, y_pred)\n",
    "    scores.append(score)\n",
    "    \n",
    "np.mean(scores), np.std(scores)"
   ]
  },
  {
   "cell_type": "markdown",
   "metadata": {},
   "source": [
    "А зачем нам это? Ну, например, мы можем сделать такой трюк. Чтобы \"немного\" улучшить ситуацию с отстающими значениями - можем эти значения логарифмировать. Далее обучать данные уже на логарифмированных ценах. Но потом вернуть обратно, в изначальные цены.\n",
    "\n",
    "Для того, чтобы найти логарифм, используем функцию `np.log()`. Обратная функция - `np.exp()`."
   ]
  },
  {
   "cell_type": "code",
   "execution_count": null,
   "metadata": {},
   "outputs": [],
   "source": [
    "np.log(10)"
   ]
  },
  {
   "cell_type": "markdown",
   "metadata": {},
   "source": [
    "Теперь пробуем вернуть назад. Для этого используем функцию `np.exp()`"
   ]
  },
  {
   "cell_type": "code",
   "execution_count": null,
   "metadata": {},
   "outputs": [],
   "source": [
    "np.exp(np.log(10))"
   ]
  },
  {
   "cell_type": "markdown",
   "metadata": {},
   "source": [
    "Видишь, получилось 10 (и длинный хвост), но это не так важно - это мелочи 😉 или кошмары цифрового мира 😱.\n",
    "\n",
    "Теперь логарифмируем наши цены - это звучит может \"заумно\", но идея очень простая."
   ]
  },
  {
   "cell_type": "code",
   "execution_count": null,
   "metadata": {},
   "outputs": [],
   "source": [
    "y_log = np.log(y)"
   ]
  },
  {
   "cell_type": "markdown",
   "metadata": {},
   "source": [
    "Все!  У нас уже есть цена, пропущенная через логарифм. Теперь `y_log` будет обучать нашу модель. Иными словам, наша модель никогда не увидит настоящие цены,а значит тоже будет прогнозировать логарифмированные ценны, т.е. будет возвращать `y_log_pred`.  Для того, чтобы вернуть в обычные цены, пропускаем через `np.exp`.\n",
    "\n",
    "`y_pred = np.exp(y_log_pred)`\n",
    "\n",
    "А теперь все вышеописанное собираем вместе."
   ]
  },
  {
   "cell_type": "code",
   "execution_count": null,
   "metadata": {},
   "outputs": [],
   "source": [
    "cv = KFold(n_splits=5, shuffle=True, random_state=0)\n",
    "scores = []\n",
    "for train_idx, test_idx in tqdm(cv.split(X)):\n",
    "    X_train, X_test = X.iloc[train_idx], X.iloc[test_idx]\n",
    "    y_log_train, y_test = y_log.iloc[train_idx], y.iloc[test_idx]\n",
    "\n",
    "    model = xgb.XGBRegressor(max_depth=7, n_estimators=50, random_state=0)\n",
    "    model.fit(X_train, y_log_train)\n",
    "    y_log_pred = model.predict(X_test)\n",
    "    y_pred = np.exp(y_log_pred)\n",
    "    \n",
    "    score = mean_absolute_error(y_test, y_pred)\n",
    "    scores.append(score)\n",
    "    \n",
    "np.mean(scores), np.std(scores)"
   ]
  },
  {
   "cell_type": "markdown",
   "metadata": {},
   "source": [
    "Видишь, такое простое изменение (обучение на ценах, пропущенных через логарифм) и модель улучшилась, используя такой простой трюк.\n",
    "\n",
    "Почему это работает? Средняя цена лучше себя ведет после логарифмирования. Смотри -  средняя цена и медиана будут почти одинаковыми (в отличие от оригинальной цены, где средняя \"очень искажена\")."
   ]
  },
  {
   "cell_type": "code",
   "execution_count": null,
   "metadata": {},
   "outputs": [],
   "source": [
    "y_log.mean(), y_log.median()"
   ]
  },
  {
   "cell_type": "markdown",
   "metadata": {},
   "source": [
    "Можно еще посмотреть на визуализацию и увидеть, что данные распределены симметрично (видна середина, где находится большинство объектов)."
   ]
  },
  {
   "cell_type": "code",
   "execution_count": null,
   "metadata": {},
   "outputs": [],
   "source": [
    "y_log.hist(bins=100);"
   ]
  },
  {
   "cell_type": "markdown",
   "metadata": {},
   "source": [
    "Почему алгоритм лучше работает при симметричном распределении? Для упрощения можешь запомнить одну простую вещь, что когда распределение симметрично, то тогда это обычно работает лучше (использую статистические методы). Это такое правило как \"для детей\", но для начала этого достаточно - потом можно копать глубже."
   ]
  },
  {
   "cell_type": "code",
   "execution_count": null,
   "metadata": {},
   "outputs": [],
   "source": []
  }
 ],
 "metadata": {
  "kernelspec": {
   "display_name": "Python 3",
   "language": "python",
   "name": "python3"
  },
  "language_info": {
   "codemirror_mode": {
    "name": "ipython",
    "version": 3
   },
   "file_extension": ".py",
   "mimetype": "text/x-python",
   "name": "python",
   "nbconvert_exporter": "python",
   "pygments_lexer": "ipython3",
   "version": "3.8.6"
  }
 },
 "nbformat": 4,
 "nbformat_minor": 4
}
